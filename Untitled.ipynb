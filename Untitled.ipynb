{
 "cells": [
  {
   "cell_type": "code",
   "execution_count": 4,
   "metadata": {
    "collapsed": false
   },
   "outputs": [
    {
     "data": {
      "text/plain": [
       "<__main__.ilbe at 0x10ba4c550>"
      ]
     },
     "execution_count": 4,
     "metadata": {},
     "output_type": "execute_result"
    }
   ],
   "source": [
    "import csv\n",
    "import requests\n",
    "import datetime\n",
    "from bs4 import BeautifulSoup as bs\n",
    "from time import sleep\n",
    "import argparse\n",
    "\n",
    "\n",
    "class ilbe(object):\n",
    "    def __init__(self,query,menu=\"celeb\"):\n",
    "        self.user_agent={'User-agent': 'Mozilla/5.0'}\n",
    "        self.query=query\n",
    "        self.menu=menu\n",
    "\n",
    "    def url_scraper(self):\n",
    "        url_list=list()\n",
    "        user_agent =self.user_agent\n",
    "        query=str(self.query)\n",
    "        menu=str(self.menu)\n",
    "        url=\"http://www.ilbe.com/?_filter=search&mid=\"+menu+\"&category=&search_target=title&search_keyword=\"+query\n",
    "        #table=music부분이 변하는부분\n",
    "        \n",
    "        page=1\n",
    "        while True:\n",
    "            page_url=url+\"&page=\"+str(page)\n",
    "            print(page_url)\n",
    "            page_source=requests.get(page_url,headers=user_agent).text\n",
    "            tmp=bs(page_source)\n",
    "            tmp_list=tmp.select('tr[class^=bg]')\n",
    "\n",
    "            if not tmp_list:\n",
    "                break\n",
    "                \n",
    "            for i in range(22):\n",
    "                try:\n",
    "                    content_url=str(tmp.select('tr[class^=bg]')[i].select('a')[0])\n",
    "                    content_url=content_url.split('\"')[1].replace('amp;','')\n",
    "                    text_number=content_url.split('=')[-1]\n",
    "                    text_subject=tmp.select('tr[class^=bg]')[i].select('td[class=title]')[0].text.strip()\n",
    "                    text_subject=replace_all(text_subject)\n",
    "\n",
    "                    text_writer=tmp.select('tr[class^=bg]')[i].select('td[class=author]')[0].text.strip()\n",
    "                    text_time=tmp.select('tr[class^=bg]')[i].select('td[class=date]')[0].text.strip()\n",
    "                    text_time=replace_all(text_time)\n",
    "\n",
    "                    lst=content_url,text_number,text_subject,text_writer,text_time\n",
    "                    url_list.append(lst)\n",
    "                except:\n",
    "                    pass\n",
    "    \n",
    "            page=page+1\n",
    "        \n",
    "        return (url_list)\n",
    "    \n",
    "ilbe(\"힙합\",\"celeb\")"
   ]
  },
  {
   "cell_type": "code",
   "execution_count": null,
   "metadata": {
    "collapsed": true
   },
   "outputs": [],
   "source": []
  },
  {
   "cell_type": "code",
   "execution_count": null,
   "metadata": {
    "collapsed": true
   },
   "outputs": [],
   "source": []
  },
  {
   "cell_type": "code",
   "execution_count": null,
   "metadata": {
    "collapsed": true
   },
   "outputs": [],
   "source": []
  },
  {
   "cell_type": "code",
   "execution_count": null,
   "metadata": {
    "collapsed": true
   },
   "outputs": [],
   "source": []
  },
  {
   "cell_type": "code",
   "execution_count": null,
   "metadata": {
    "collapsed": true
   },
   "outputs": [],
   "source": []
  }
 ],
 "metadata": {
  "kernelspec": {
   "display_name": "Python 3",
   "language": "python",
   "name": "python3"
  },
  "language_info": {
   "codemirror_mode": {
    "name": "ipython",
    "version": 3
   },
   "file_extension": ".py",
   "mimetype": "text/x-python",
   "name": "python",
   "nbconvert_exporter": "python",
   "pygments_lexer": "ipython3",
   "version": "3.4.3"
  }
 },
 "nbformat": 4,
 "nbformat_minor": 0
}
